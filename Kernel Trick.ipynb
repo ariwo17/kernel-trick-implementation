{
 "cells": [
  {
   "cell_type": "markdown",
   "metadata": {},
   "source": [
    "# Linear SVM"
   ]
  },
  {
   "cell_type": "code",
   "execution_count": 1,
   "metadata": {
    "collapsed": false
   },
   "outputs": [],
   "source": [
    "import numpy as np\n",
    "import matplotlib.pyplot as plt\n",
    "\n",
    "# def generate_random_data(x0, y0, spread, n):\n",
    "def generate_random_data(x0: float, y0: float, spread: float, n: int) -> np.array:\n",
    "    \"\"\"\n",
    "    Generates a cluster of random data points around a given center.\n",
    "\n",
    "    Parameters:\n",
    "    - x0: x-coordinate of the center.\n",
    "    - y0: y-coordinate of the center.\n",
    "    - spread: spread factor around the center.\n",
    "    - n: number of data points to generate.\n",
    "\n",
    "    Returns:\n",
    "    Tuple of two lists:\n",
    "    1. List of x-coordinates of the generated data points.\n",
    "    2. List of y-coordinates of the generated data points.\n",
    "    \"\"\"\n",
    "    x_vals = []\n",
    "    y_vals = []\n",
    "        \n",
    "    rand_vals = np.random.rand(2, n)\n",
    "    \n",
    "    for j in range(n):\n",
    "        x_vals.append(x0 + 2*spread*rand_vals[0,j] - spread)\n",
    "        y_vals.append(y0 + 2*spread*rand_vals[1,j] - spread)\n",
    "    \n",
    "    return [x_vals, y_vals]\n",
    "    "
   ]
  },
  {
   "cell_type": "code",
   "execution_count": 2,
   "metadata": {},
   "outputs": [],
   "source": [
    "def plot_cluster_graph(red_points: np.array, blue_points: np.array, xy_lim: tuple[float, float]) -> None:\n",
    "    '''\n",
    "    Plots a graph with two distinct clusters given the specified parameters.\n",
    "    \n",
    "    Parameters:\n",
    "    - red_points: numpy array of coordinates of the red points.\n",
    "    - blue_points: numpy array of coordinates of the blue points.\n",
    "    - xy_lim: range of values for both the x-axis and y-axis in the plot.\n",
    "    '''\n",
    "    plt.figure(figsize=(5,5))\n",
    "    plt.xlim(xy_lim)\n",
    "    plt.ylim(xy_lim)\n",
    "    plt.plot(red_points[0], red_points[1], 'ro')\n",
    "    plt.plot(blue_points[0], blue_points[1], 'bo')\n",
    "    plt.grid()"
   ]
  },
  {
   "cell_type": "code",
   "execution_count": 3,
   "metadata": {},
   "outputs": [],
   "source": [
    "# this cell contains parameters to be used in the following test plots\n",
    "default_xy_lim = (-1.0, 2.0)\n",
    "small_spread = 0.2\n",
    "large_spread = 1.0\n",
    "red_centre = (0, 1)\n",
    "blue_centre = (1, 0)\n",
    "n = 20"
   ]
  },
  {
   "cell_type": "code",
   "execution_count": 4,
   "metadata": {
    "collapsed": false
   },
   "outputs": [
    {
     "data": {
      "image/png": "[encoded data removed]",
      "text/plain": [
       "<Figure size 360x360 with 1 Axes>"
      ]
     },
     "metadata": {
      "needs_background": "light"
     },
     "output_type": "display_data"
    }
   ],
   "source": [
    "# use this cell for your first plot, where the spread should be small\n",
    "red_points = generate_random_data(*red_centre, small_spread, n)\n",
    "blue_points = generate_random_data(*blue_centre, small_spread, n)\n",
    "\n",
    "plot_cluster_graph(red_points, blue_points, default_xy_lim)\n",
    "plt.show()"
   ]
  },
  {
   "cell_type": "code",
   "execution_count": 5,
   "metadata": {
    "collapsed": false
   },
   "outputs": [
    {
     "data": {
      "image/png": "[encoded data removed]",
      "text/plain": [
       "<Figure size 360x360 with 1 Axes>"
      ]
     },
     "metadata": {
      "needs_background": "light"
     },
     "output_type": "display_data"
    }
   ],
   "source": [
    "# use this cell for your second plot, where the spread is larger\n",
    "red_points = generate_random_data(*red_centre, large_spread, n)\n",
    "blue_points = generate_random_data(*blue_centre, large_spread, n)\n",
    "\n",
    "plot_cluster_graph(red_points, blue_points, default_xy_lim)\n",
    "plt.show()"
   ]
  },
  {
   "cell_type": "code",
   "execution_count": 6,
   "metadata": {
    "collapsed": false
   },
   "outputs": [],
   "source": [
    "def loss(bw: np.array, data: tuple[np.array, np.array]) -> float:\n",
    "    '''\n",
    "    Computes the hinge loss for the SVM given the bias, the weights and the training data.\n",
    "\n",
    "    Parameters:\n",
    "    - bw: a numpy array comprising a bias term followed by weights.\n",
    "    - data: a tuple containing two numpy arrays:\n",
    "     1. The feature matrix 'X' (an array of datapoints).\n",
    "     2. The corresponding target values 'y' (a classification as 1 or -1).\n",
    "\n",
    "    Returns: the calculated total hinge loss.\n",
    "    '''\n",
    "    b = bw[0]\n",
    "    w = bw[1:]\n",
    "\n",
    "    l = 0.01\n",
    "    regularisation_term = l * np.sum(w**2)  # λ ||w||^2\n",
    "    \n",
    "    X = data[:, :-1]\n",
    "    y = data[:, -1]\n",
    "\n",
    "    hinge_losses = []\n",
    "    for i in range(len(X)):\n",
    "        hinge_loss = max(0, 1 - y[i] * (np.dot(w, X[i]) - b))\n",
    "        hinge_losses.append(hinge_loss)\n",
    "\n",
    "    total_loss = regularisation_term + (1 / len(data)) * sum(hinge_losses)\n",
    "    return total_loss"
   ]
  },
  {
   "cell_type": "code",
   "execution_count": 7,
   "metadata": {
    "collapsed": false
   },
   "outputs": [],
   "source": [
    "import numpy as np\n",
    "from scipy.optimize import minimize\n",
    "import matplotlib.pyplot as plt"
   ]
  },
  {
   "cell_type": "code",
   "execution_count": 8,
   "metadata": {
    "collapsed": false
   },
   "outputs": [],
   "source": [
    "def f(bw, data):\n",
    "    return 2 + (bw[0] - data[0]) ** 2 + (bw[1] - data[1]) ** 2\n",
    "\n",
    "testdata = np.array([1, 2])"
   ]
  },
  {
   "cell_type": "code",
   "execution_count": 9,
   "metadata": {
    "collapsed": false
   },
   "outputs": [],
   "source": [
    "def svm_demo(n: int, redCentre: tuple[float, float], blueCentre: tuple[float, float], spread: float) -> None:\n",
    "    '''\n",
    "    Minimises the loss function for the SVM, then plots the resulting hyperplane separating between the red and blue points.\n",
    "\n",
    "    Parameters:\n",
    "    - n: number of points to plot per cluster.\n",
    "    - redCentre: the coordinates of the centre of the cluster of red points.\n",
    "    - blueCentre: the coordinates of the centre of the cluster of blue points.\n",
    "    - spread: the spread factor for both clusters.\n",
    "    '''\n",
    "    red_data = np.array(generate_random_data(*redCentre, spread, n))\n",
    "    blue_data = np.array(generate_random_data(*blueCentre, spread, n))\n",
    "    xy_lim = (-1.5, 2.5)\n",
    "\n",
    "    # Labels for red and blue data points\n",
    "    y_red = np.ones(n)\n",
    "    y_blue = -np.ones(n)\n",
    "\n",
    "    # Combine the red and blue data points into a single dataset\n",
    "    X = np.vstack((red_data.T, blue_data.T))\n",
    "    y = np.concatenate((y_red, y_blue))\n",
    "\n",
    "    # Stack features and labels to prepare for SVM\n",
    "    data = np.column_stack((X, y))\n",
    "\n",
    "    def loss_wrapper(bw):\n",
    "        return loss(bw, data)\n",
    "\n",
    "    # Initialise and perform optimisation to find the best weights and bias\n",
    "    initial_guess = np.zeros(X.shape[1] + 1)\n",
    "    result = minimize(loss_wrapper, initial_guess)\n",
    "\n",
    "    # Extract the optimal weights and bias from the result\n",
    "    w_opt = result.x[1:]\n",
    "    b_opt = result.x[0]\n",
    "\n",
    "    # Plot the red and blue data points\n",
    "    plot_cluster_graph(red_data, blue_data, xy_lim)\n",
    "\n",
    "    # Generate values for plotting the hyperplane and margins\n",
    "    x_values = np.linspace(*xy_lim, 100)\n",
    "    y_decision = (b_opt - w_opt[0] * x_values) / w_opt[1]\n",
    "    y_margin_1 = (b_opt - 1 - w_opt[0] * x_values) / w_opt[1]\n",
    "    y_margin_2 = (b_opt + 1 - w_opt[0] * x_values) / w_opt[1]\n",
    "\n",
    "    # Plot hyperplane and margins\n",
    "    plt.plot(x_values, y_decision, 'k-', label='Hyperplane', zorder=3)\n",
    "    plt.plot(x_values, y_margin_1, 'k--', label='Margin', zorder=3)\n",
    "    plt.plot(x_values, y_margin_2, 'k--', zorder=3)    \n",
    "    plt.legend()\n",
    "    plt.show()\n"
   ]
  },
  {
   "cell_type": "code",
   "execution_count": 10,
   "metadata": {
    "collapsed": false
   },
   "outputs": [
    {
     "data": {
      "image/png": "[encoded data removed]",
      "text/plain": [
       "<Figure size 360x360 with 1 Axes>"
      ]
     },
     "metadata": {
      "needs_background": "light"
     },
     "output_type": "display_data"
    }
   ],
   "source": [
    "# call your svm_demo function here\n",
    "svm_demo(20, [0, 1], [1, 0], 0.8)"
   ]
  },
  {
   "cell_type": "markdown",
   "metadata": {},
   "source": [
    "# Kernelised SVM"
   ]
  },
  {
   "cell_type": "markdown",
   "metadata": {},
   "source": [
    "------------------------------------ A NEW BEGINNING! ------------------------------------\\\n",
    "Here we start our project on extending the above code's functionality.\\\n",
    "We begin with the aim to implement an SVM from scratch, focusing on understanding and implementing the kernel trick from scratch, particularly the polynomial kernel.\\\n",
    "The goal is to handle non-linearly separable data by transforming it into a higher-dimensional space where it becomes linearly separable.\\\n",
    "This aim is our starting point, at least."
   ]
  },
  {
   "cell_type": "markdown",
   "metadata": {},
   "source": [
    "Here is a proposed step-by-step appraoch to achieving the above goal, similar in structure to how the linear SVM project was approached.\\\n",
    "\n",
    "1. Kernel Function Implementation\n",
    "    - Implement a basic linear kernel function\n",
    "    - Implement a polynomial kernel function\n",
    "    - (Optional) Implement a Gaussian (RBF) kernel function\n",
    "\n",
    "2. Kernel Matrix Computation\n",
    "    -  Create a function to compute the kernel matrix for a given dataset and kernel function\n",
    "\n",
    "3. Dual Form SVM Formulation\n",
    "    - Implement the dual form of the SVM optimisation problem\n",
    "    - Modify the loss function to use the kernel matrix\n",
    "\n",
    "4. Quadratic Programming Solver\n",
    "    - Implement from scratch a quadratic programming solver to find the optimal Lagrange multipliers e.g. a simple solver like SMO or gradient ascent for the dual problem\n",
    "\n",
    "5. Support Vector Identification\n",
    "    - Implement a method to identify support vectors based on the solved Lagrange multipliers\n",
    "\n",
    "6. Decision Function\n",
    "    - Implement the SVM decision function using the kernel trick\n",
    "\n",
    "7. Non-linear Data Generation\n",
    "    - Create functions to generate non-linearly separable datasets for testing\n",
    "\n",
    "8. Training and Prediction\n",
    "    - Implement functions for training the SVM and making predictions on new data\n",
    "\n",
    "9. Visualisation\n",
    "    - Extend the current visualisation code to plot decision boundaries for non-linear SVMs\n",
    "\n",
    "10. Hyperparameter Tuning\n",
    "    - Implement methods for tuning kernel parameters (e.g., degree for polynomial kernel)\n",
    "\n",
    "11. Performance Evaluation\n",
    "    - Implement metrics to evaluate the SVM's performance on various datasets\n",
    "\n",
    "12. Comparison with Linear SVM\n",
    "    - Create experiments to compare the performance of kernelised SVM with linear SVM"
   ]
  },
  {
   "cell_type": "markdown",
   "metadata": {},
   "source": [
    "## Data Generation"
   ]
  },
  {
   "cell_type": "code",
   "execution_count": 11,
   "metadata": {},
   "outputs": [],
   "source": [
    "def generate_circular_data(radius: float, spread: float, n: int) -> np.array:\n",
    "    \"\"\"\n",
    "    Generates circular clusters of random data points.\n",
    "\n",
    "    Parameters:\n",
    "    - radius: radius of the circular cluster.\n",
    "    - spread: spread factor around the circle.\n",
    "    - n: number of data points to generate for each cluster.\n",
    "\n",
    "    Returns:\n",
    "    - A tuple of two numpy arrays: one for the x-coordinates and one for the y-coordinates.\n",
    "    \"\"\"\n",
    "    angles = 2 * np.pi * np.random.rand(n)\n",
    "    x_vals = radius * np.cos(angles) + spread * np.random.randn(n)\n",
    "    y_vals = radius * np.sin(angles) + spread * np.random.randn(n)\n",
    "    return np.array([x_vals, y_vals])"
   ]
  },
  {
   "cell_type": "code",
   "execution_count": 12,
   "metadata": {},
   "outputs": [],
   "source": [
    "def plot_clusters(inner_points: np.array, outer_points: np.array, xy_lim: tuple[float, float]) -> None:\n",
    "    \"\"\"\n",
    "    Plots a graph with two circular clusters.\n",
    "\n",
    "    Parameters:\n",
    "    - inner_points: numpy array of coordinates of the inner circular cluster.\n",
    "    - outer_points: numpy array of coordinates of the outer circular cluster.\n",
    "    - xy_lim: range of values for both the x-axis and y-axis in the plot.\n",
    "    \"\"\"\n",
    "    plt.figure(figsize=(5,5))\n",
    "    plt.xlim(xy_lim)\n",
    "    plt.ylim(xy_lim)\n",
    "    plt.plot(inner_points[0], inner_points[1], 'ro', label='Inner Cluster')\n",
    "    plt.plot(outer_points[0], outer_points[1], 'bo', label='Outer Cluster')\n",
    "    plt.grid()\n",
    "    plt.legend()\n",
    "    plt.show()"
   ]
  },
  {
   "cell_type": "code",
   "execution_count": 13,
   "metadata": {},
   "outputs": [
    {
     "data": {
      "image/png": "[encoded data removed]",
      "text/plain": [
       "<Figure size 360x360 with 1 Axes>"
      ]
     },
     "metadata": {
      "needs_background": "light"
     },
     "output_type": "display_data"
    }
   ],
   "source": [
    "n = 100\n",
    "inner_radius = 1.0\n",
    "outer_radius = 1.8\n",
    "spread = 0.2\n",
    "xy_lim = (-4, 4)\n",
    "\n",
    "inner_points = generate_circular_data(inner_radius, spread, n)\n",
    "outer_points = generate_circular_data(outer_radius, spread, n)\n",
    "\n",
    "plot_clusters(inner_points, outer_points, xy_lim)"
   ]
  },
  {
   "cell_type": "code",
   "execution_count": 14,
   "metadata": {},
   "outputs": [
    {
     "data": {
      "image/png": "[encoded data removed]",
      "text/plain": [
       "<Figure size 360x360 with 1 Axes>"
      ]
     },
     "metadata": {
      "needs_background": "light"
     },
     "output_type": "display_data"
    }
   ],
   "source": [
    "import numpy as np\n",
    "import matplotlib.pyplot as plt\n",
    "\n",
    "def generate_elliptical_data(a: float, b: float, spread: float, n: int) -> np.array:\n",
    "    \"\"\"\n",
    "    Generates elliptical clusters of random data points.\n",
    "\n",
    "    Parameters:\n",
    "    - a: semi-major axis of the ellipse.\n",
    "    - b: semi-minor axis of the ellipse.\n",
    "    - spread: spread factor around the ellipse.\n",
    "    - n: number of data points to generate for each cluster.\n",
    "\n",
    "    Returns:\n",
    "    - A tuple of two numpy arrays: one for the x-coordinates and one for the y-coordinates.\n",
    "    \"\"\"\n",
    "    angles = 2 * np.pi * np.random.rand(n)\n",
    "    x_vals = a * np.cos(angles) + spread * np.random.randn(n)\n",
    "    y_vals = b * np.sin(angles) + spread * np.random.randn(n)\n",
    "    return np.array([x_vals, y_vals])\n",
    "\n",
    "# Example usage\n",
    "n = 100\n",
    "a_inner = 1.0\n",
    "b_inner = 0.5\n",
    "a_outer = 1.8\n",
    "b_outer = 1.5\n",
    "spread = 0.2\n",
    "xy_lim = (-4, 4)\n",
    "\n",
    "inner_points = generate_elliptical_data(a_inner, b_inner, spread, n)\n",
    "outer_points = generate_elliptical_data(a_outer, b_outer, spread, n)\n",
    "\n",
    "plot_clusters(inner_points, outer_points, xy_lim)\n"
   ]
  },
  {
   "cell_type": "markdown",
   "metadata": {},
   "source": [
    "## Implementation of Support Vector Machine"
   ]
  },
  {
   "cell_type": "code",
   "execution_count": 15,
   "metadata": {},
   "outputs": [],
   "source": [
    "import numpy as np\n",
    "import matplotlib.pyplot as plt\n",
    "import cvxopt\n",
    "\n",
    "def linear_kernel(x1, x2):\n",
    "    return np.dot(x1, x2)\n",
    "\n",
    "def polynomial_kernel(x1, x2, degree=3, coef0=1):\n",
    "    return (np.dot(x1, x2) + coef0) ** degree\n",
    "\n",
    "def gaussian_rbf_kernel(x1, x2, sigma=1.0):\n",
    "    return np.exp(-np.linalg.norm(x1 - x2) ** 2 / (2 * (sigma ** 2)))"
   ]
  },
  {
   "cell_type": "code",
   "execution_count": 16,
   "metadata": {},
   "outputs": [],
   "source": [
    "def solve_qp(P, q, G, h, A, b):\n",
    "    \"\"\"\n",
    "    Solves the quadratic programming problem for SVM.\n",
    "\n",
    "    Parameters:\n",
    "    - P, q, G, h, A, b: parameters of the quadratic programming problem.\n",
    "\n",
    "    Returns: the optimal values for the decision variables.\n",
    "    \"\"\"\n",
    "    P = cvxopt.matrix(P)\n",
    "    q = cvxopt.matrix(q)\n",
    "    G = cvxopt.matrix(G)\n",
    "    h = cvxopt.matrix(h)\n",
    "    A = cvxopt.matrix(A)\n",
    "    b = cvxopt.matrix(b)\n",
    "    solution = cvxopt.solvers.qp(P, q, G, h, A, b)\n",
    "    return np.ravel(solution['x'])"
   ]
  },
  {
   "cell_type": "code",
   "execution_count": 17,
   "metadata": {},
   "outputs": [],
   "source": [
    "class SVM:\n",
    "    def __init__(self, kernel=linear_kernel, C=1.0):\n",
    "        \"\"\"\n",
    "        Initialises the SVM with a specified kernel function and regularisation parameter.\n",
    "\n",
    "        Parameters:\n",
    "        - kernel: a kernel function (default is linear kernel).\n",
    "        - C: regularisation parameter (default is 1.0).\n",
    "        \"\"\"\n",
    "        self.kernel = kernel\n",
    "        self.C = C\n",
    "        self.alpha = None\n",
    "        self.b = 0\n",
    "        self.support_vectors = None\n",
    "        self.support_vector_labels = None\n",
    "        self.support_vector_alphas = None\n",
    "\n",
    "    def fit(self, X, y):\n",
    "        \"\"\"\n",
    "        Trains the SVM model on the provided training data.\n",
    "\n",
    "        Parameters:\n",
    "        - X: training data features, a numpy array of shape (n_samples, n_features).\n",
    "        - y: training data labels, a numpy array of shape (n_samples,).\n",
    "        \"\"\"\n",
    "        n_samples, n_features = X.shape\n",
    "        K = np.zeros((n_samples, n_samples))\n",
    "\n",
    "        # Compute the kernel matrix\n",
    "        for i in range(n_samples):\n",
    "            for j in range(n_samples):\n",
    "                K[i, j] = self.kernel(X[i], X[j])\n",
    "\n",
    "        # Construct the parameters for the quadratic programming problem\n",
    "        P = np.outer(y, y) * K\n",
    "        q = -np.ones(n_samples)\n",
    "        G = np.vstack((-np.eye(n_samples), np.eye(n_samples)))\n",
    "        h = np.hstack((np.zeros(n_samples), self.C * np.ones(n_samples)))\n",
    "        A = y.reshape(1, -1)\n",
    "        b = np.zeros(1)\n",
    "\n",
    "        # Solve the quadratic programming problem to find the optimal alpha values\n",
    "        self.alpha = solve_qp(P, q, G, h, A, b)\n",
    "\n",
    "        # Identify support vectors\n",
    "        support_vector_indices = self.alpha > 1e-5\n",
    "        self.alpha = self.alpha[support_vector_indices]\n",
    "        self.support_vectors = X[support_vector_indices]\n",
    "        self.support_vector_labels = y[support_vector_indices]\n",
    "        self.support_vector_alphas = self.alpha\n",
    "\n",
    "        # Compute the bias term\n",
    "        self.b = np.mean(\n",
    "            [y_k - np.sum(self.alpha * self.support_vector_labels * K[i, support_vector_indices])\n",
    "             for i, y_k in enumerate(y) if support_vector_indices[i]]\n",
    "        )\n",
    "\n",
    "    def predict(self, X):\n",
    "        \"\"\"\n",
    "        Predicts the class labels for the given data.\n",
    "\n",
    "        Parameters:\n",
    "\n",
    "        Returns:\n",
    "        \"\"\"\n",
    "        y_pred = []\n",
    "        for i in range(len(X)):\n",
    "            # Compute the decision function for each data point\n",
    "            pass"
   ]
  },
  {
   "cell_type": "markdown",
   "metadata": {},
   "source": [
    "## Training and Visualisation"
   ]
  },
  {
   "cell_type": "code",
   "execution_count": null,
   "metadata": {},
   "outputs": [],
   "source": []
  }
 ],
 "metadata": {
  "kernelspec": {
   "argv": [
    "/usr/bin/python3",
    "-m",
    "ipykernel",
    "--HistoryManager.enabled=False",
    "--matplotlib=inline",
    "-c",
    "%config InlineBackend.figure_formats = set(['retina'])\nimport matplotlib; matplotlib.rcParams['figure.figsize'] = (12, 7)",
    "-f",
    "{connection_file}"
   ],
   "display_name": "Python 3 (system-wide)",
   "env": {},
   "language": "python",
   "metadata": {
    "cocalc": {
     "description": "Python 3 programming language",
     "priority": 100,
     "url": "https://www.python.org/"
    }
   },
   "name": "python3",
   "resource_dir": "/ext/jupyter/kernels/python3"
  },
  "language_info": {
   "codemirror_mode": {
    "name": "ipython",
    "version": 3
   },
   "file_extension": ".py",
   "mimetype": "text/x-python",
   "name": "python",
   "nbconvert_exporter": "python",
   "pygments_lexer": "ipython3",
   "version": "3.10.0"
  }
 },
 "nbformat": 4,
 "nbformat_minor": 4
}
